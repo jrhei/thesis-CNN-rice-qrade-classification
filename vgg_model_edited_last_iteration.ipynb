{
 "cells": [
  {
   "cell_type": "code",
   "execution_count": 205,
   "id": "bc5092c4",
   "metadata": {
    "scrolled": false
   },
   "outputs": [],
   "source": [
    "from tensorflow.keras.layers import Input, Lambda, Dense, Flatten,Dropout\n",
    "from tensorflow.keras.models import Model\n",
    "from tensorflow.keras.applications.vgg19 import VGG19\n",
    "from tensorflow.keras.applications.vgg19 import preprocess_input\n",
    "from tensorflow.keras.preprocessing import image\n",
    "from tensorflow.keras.preprocessing.image import ImageDataGenerator\n",
    "from tensorflow.keras.models import Sequential\n",
    "import numpy as np\n",
    "import pandas as pd\n",
    "import os\n",
    "import cv2\n",
    "import matplotlib.pyplot as plt\n",
    "import tensorflow as tf\n",
    "\n",
    "gpus = tf.config.experimental.list_physical_devices('GPU')\n",
    "for gpu in gpus:\n",
    "    tf.config.experimental.set_memory_growth(gpu,True)\n"
   ]
  },
  {
   "cell_type": "code",
   "execution_count": 206,
   "id": "97271327",
   "metadata": {},
   "outputs": [],
   "source": [
    "#tf.debugging.set_log_device_placement(True)\n",
    "#gpus"
   ]
  },
  {
   "cell_type": "code",
   "execution_count": 207,
   "id": "d6ebe5b5",
   "metadata": {},
   "outputs": [],
   "source": [
    "IMAGE_SIZE = [256,256]"
   ]
  },
  {
   "cell_type": "code",
   "execution_count": 208,
   "id": "c0cdd339",
   "metadata": {},
   "outputs": [],
   "source": [
    "train_path=\"./removed/data/train\"\n",
    "test_path=\"./removed/data/test\"\n",
    "val_path=\"./removed/data/val\"\n",
    "\n",
    "# train_path=\"./data/train\"\n",
    "# test_path=\"./data/test\"\n",
    "# val_path=\"./data/val\"\n"
   ]
  },
  {
   "cell_type": "code",
   "execution_count": 209,
   "id": "c4a3a981",
   "metadata": {},
   "outputs": [
    {
     "name": "stdout",
     "output_type": "stream",
     "text": [
      "x-train done\n"
     ]
    }
   ],
   "source": [
    "x_train=[]\n",
    "\n",
    "for folder in os.listdir(train_path):\n",
    "    sub_path=train_path+\"/\"+folder\n",
    "    for img in os.listdir(sub_path):\n",
    "        image_path=sub_path+\"/\"+img\n",
    "        img_arr=cv2.imread(image_path)\n",
    "        img_arr=cv2.resize(img_arr,(256,256))\n",
    "        x_train.append(img_arr)\n",
    "        \n",
    "print('x-train done')"
   ]
  },
  {
   "cell_type": "code",
   "execution_count": 210,
   "id": "9ac17c9a",
   "metadata": {},
   "outputs": [
    {
     "name": "stdout",
     "output_type": "stream",
     "text": [
      "x-test done\n"
     ]
    }
   ],
   "source": [
    "x_test=[]\n",
    "\n",
    "for folder in os.listdir(test_path):\n",
    "    sub_path=test_path+\"/\"+folder\n",
    "    for img in os.listdir(sub_path):\n",
    "        image_path=sub_path+\"/\"+img\n",
    "        img_arr=cv2.imread(image_path)\n",
    "        img_arr=cv2.resize(img_arr,(256,256))\n",
    "        x_test.append(img_arr)\n",
    "print('x-test done')"
   ]
  },
  {
   "cell_type": "code",
   "execution_count": 211,
   "id": "6e2c59bf",
   "metadata": {},
   "outputs": [
    {
     "name": "stdout",
     "output_type": "stream",
     "text": [
      "x-val done\n"
     ]
    }
   ],
   "source": [
    "x_val=[]\n",
    "\n",
    "for folder in os.listdir(val_path):\n",
    "    sub_path=val_path+\"/\"+folder\n",
    "    for img in os.listdir(sub_path):\n",
    "        image_path=sub_path+\"/\"+img\n",
    "        img_arr=cv2.imread(image_path)\n",
    "        img_arr=cv2.resize(img_arr,(256,256))\n",
    "        x_val.append(img_arr)\n",
    "print('x-val done')   "
   ]
  },
  {
   "cell_type": "code",
   "execution_count": 212,
   "id": "6c9bddee",
   "metadata": {},
   "outputs": [
    {
     "name": "stdout",
     "output_type": "stream",
     "text": [
      "test\n"
     ]
    }
   ],
   "source": [
    "train_x=np.array(x_train)\n",
    "test_x=np.array(x_test)\n",
    "val_x=np.array(x_val)\n",
    "print('test')"
   ]
  },
  {
   "cell_type": "code",
   "execution_count": 213,
   "id": "3f5a2f61",
   "metadata": {},
   "outputs": [
    {
     "data": {
      "text/plain": [
       "((259, 256, 256, 3), (81, 256, 256, 3), (64, 256, 256, 3))"
      ]
     },
     "execution_count": 213,
     "metadata": {},
     "output_type": "execute_result"
    }
   ],
   "source": [
    "train_x.shape,test_x.shape,val_x.shape"
   ]
  },
  {
   "cell_type": "code",
   "execution_count": 214,
   "id": "d45c48b2",
   "metadata": {},
   "outputs": [],
   "source": [
    "train_x=train_x/255.0\n",
    "test_x=test_x/255.0\n",
    "val_x=val_x/255.0"
   ]
  },
  {
   "cell_type": "code",
   "execution_count": 215,
   "id": "f876a69e",
   "metadata": {},
   "outputs": [],
   "source": [
    "from tensorflow.keras.preprocessing.image import ImageDataGenerator"
   ]
  },
  {
   "cell_type": "code",
   "execution_count": 216,
   "id": "043a436f",
   "metadata": {},
   "outputs": [
    {
     "name": "stdout",
     "output_type": "stream",
     "text": [
      "Found 259 images belonging to 4 classes.\n",
      "Found 81 images belonging to 4 classes.\n",
      "Found 64 images belonging to 4 classes.\n"
     ]
    }
   ],
   "source": [
    "train_datagen = ImageDataGenerator(rescale = 1./255)\n",
    "test_datagen = ImageDataGenerator(rescale = 1./255)\n",
    "val_datagen = ImageDataGenerator(rescale = 1./255)\n",
    "\n",
    "\n",
    "training_set = train_datagen.flow_from_directory(train_path,\n",
    "                                                 target_size = (256,256),\n",
    "                                                 batch_size = 32,\n",
    "                                                 class_mode = 'input')\n",
    "\n",
    "test_set = test_datagen.flow_from_directory(test_path,\n",
    "                                            target_size = (256,256),\n",
    "                                            batch_size = 32,\n",
    "                                            class_mode = 'input')\n",
    "\n",
    "val_set = val_datagen.flow_from_directory(val_path,\n",
    "                                            target_size = (256,256),\n",
    "                                            batch_size = 32,\n",
    "                                            class_mode = 'input')"
   ]
  },
  {
   "cell_type": "code",
   "execution_count": 218,
   "id": "9e8c34e8",
   "metadata": {},
   "outputs": [
    {
     "data": {
      "text/plain": [
       "<matplotlib.image.AxesImage at 0x289c92a1a00>"
      ]
     },
     "execution_count": 218,
     "metadata": {},
     "output_type": "execute_result"
    },
    {
     "data": {
      "image/png": "[encoded data removed]",
      "text/plain": [
       "<Figure size 432x288 with 1 Axes>"
      ]
     },
     "metadata": {
      "needs_background": "light"
     },
     "output_type": "display_data"
    }
   ],
   "source": [
    "training_set.class_indices\n",
    "plt.imshow(x_train[1])\n",
    "#ims = x_train[260]\n",
    "#PATH = './output_dir'\n",
    "#x_train[0]\n",
    "#cv2.imwrite('filename.jpeg', ims)\n",
    "\n",
    "#ims.save(\"test_file.jpg\")\n",
    "#cv2.imwrite(path,img_to_save)"
   ]
  },
  {
   "cell_type": "code",
   "execution_count": 219,
   "id": "3aa6d1a9",
   "metadata": {},
   "outputs": [
    {
     "name": "stdout",
     "output_type": "stream",
     "text": [
      "0\n"
     ]
    }
   ],
   "source": [
    "train_y=training_set.classes\n",
    "print(train_y[0])"
   ]
  },
  {
   "cell_type": "code",
   "execution_count": 220,
   "id": "1c664dcf",
   "metadata": {},
   "outputs": [],
   "source": [
    "test_y=test_set.classes"
   ]
  },
  {
   "cell_type": "code",
   "execution_count": 221,
   "id": "4dc31f82",
   "metadata": {},
   "outputs": [],
   "source": [
    "val_y=val_set.classes"
   ]
  },
  {
   "cell_type": "code",
   "execution_count": 222,
   "id": "68904963",
   "metadata": {},
   "outputs": [
    {
     "data": {
      "text/plain": [
       "((259,), (81,), (64,))"
      ]
     },
     "execution_count": 222,
     "metadata": {},
     "output_type": "execute_result"
    }
   ],
   "source": [
    "train_y.shape,test_y.shape,val_y.shape"
   ]
  },
  {
   "cell_type": "code",
   "execution_count": 223,
   "id": "a35bf08d",
   "metadata": {},
   "outputs": [],
   "source": [
    "# add preprocessing layer to the front of VGG\n",
    "vgg = VGG19(input_shape=IMAGE_SIZE + [3], weights='imagenet', include_top=False)"
   ]
  },
  {
   "cell_type": "code",
   "execution_count": 224,
   "id": "c1e16dbf",
   "metadata": {},
   "outputs": [],
   "source": [
    "# don't train existing weights\n",
    "for layer in vgg.layers:\n",
    "    layer.trainable = False"
   ]
  },
  {
   "cell_type": "code",
   "execution_count": 225,
   "id": "fb4d6ff7",
   "metadata": {},
   "outputs": [],
   "source": [
    "# our layers - you can add more if you want\n",
    "x = Flatten()(vgg.output)\n",
    "\n",
    "prediction = Dense(4, activation='softmax')(x)"
   ]
  },
  {
   "cell_type": "code",
   "execution_count": 226,
   "id": "233234d4",
   "metadata": {},
   "outputs": [
    {
     "name": "stdout",
     "output_type": "stream",
     "text": [
      "Model: \"model_6\"\n",
      "_________________________________________________________________\n",
      " Layer (type)                Output Shape              Param #   \n",
      "=================================================================\n",
      " input_7 (InputLayer)        [(None, 256, 256, 3)]     0         \n",
      "                                                                 \n",
      " block1_conv1 (Conv2D)       (None, 256, 256, 64)      1792      \n",
      "                                                                 \n",
      " block1_conv2 (Conv2D)       (None, 256, 256, 64)      36928     \n",
      "                                                                 \n",
      " block1_pool (MaxPooling2D)  (None, 128, 128, 64)      0         \n",
      "                                                                 \n",
      " block2_conv1 (Conv2D)       (None, 128, 128, 128)     73856     \n",
      "                                                                 \n",
      " block2_conv2 (Conv2D)       (None, 128, 128, 128)     147584    \n",
      "                                                                 \n",
      " block2_pool (MaxPooling2D)  (None, 64, 64, 128)       0         \n",
      "                                                                 \n",
      " block3_conv1 (Conv2D)       (None, 64, 64, 256)       295168    \n",
      "                                                                 \n",
      " block3_conv2 (Conv2D)       (None, 64, 64, 256)       590080    \n",
      "                                                                 \n",
      " block3_conv3 (Conv2D)       (None, 64, 64, 256)       590080    \n",
      "                                                                 \n",
      " block3_conv4 (Conv2D)       (None, 64, 64, 256)       590080    \n",
      "                                                                 \n",
      " block3_pool (MaxPooling2D)  (None, 32, 32, 256)       0         \n",
      "                                                                 \n",
      " block4_conv1 (Conv2D)       (None, 32, 32, 512)       1180160   \n",
      "                                                                 \n",
      " block4_conv2 (Conv2D)       (None, 32, 32, 512)       2359808   \n",
      "                                                                 \n",
      " block4_conv3 (Conv2D)       (None, 32, 32, 512)       2359808   \n",
      "                                                                 \n",
      " block4_conv4 (Conv2D)       (None, 32, 32, 512)       2359808   \n",
      "                                                                 \n",
      " block4_pool (MaxPooling2D)  (None, 16, 16, 512)       0         \n",
      "                                                                 \n",
      " block5_conv1 (Conv2D)       (None, 16, 16, 512)       2359808   \n",
      "                                                                 \n",
      " block5_conv2 (Conv2D)       (None, 16, 16, 512)       2359808   \n",
      "                                                                 \n",
      " block5_conv3 (Conv2D)       (None, 16, 16, 512)       2359808   \n",
      "                                                                 \n",
      " block5_conv4 (Conv2D)       (None, 16, 16, 512)       2359808   \n",
      "                                                                 \n",
      " block5_pool (MaxPooling2D)  (None, 8, 8, 512)         0         \n",
      "                                                                 \n",
      " flatten_6 (Flatten)         (None, 32768)             0         \n",
      "                                                                 \n",
      " dense_6 (Dense)             (None, 4)                 131076    \n",
      "                                                                 \n",
      "=================================================================\n",
      "Total params: 20,155,460\n",
      "Trainable params: 131,076\n",
      "Non-trainable params: 20,024,384\n",
      "_________________________________________________________________\n"
     ]
    }
   ],
   "source": [
    "# create a model object\n",
    "model = Model(inputs=vgg.input, outputs=prediction)\n",
    "\n",
    "# view the structure of the model\n",
    "model.summary()"
   ]
  },
  {
   "cell_type": "code",
   "execution_count": 227,
   "id": "d64ac2c4",
   "metadata": {},
   "outputs": [],
   "source": [
    "# tell the model what cost and optimization method to use\n",
    "model.compile(\n",
    "  loss='sparse_categorical_crossentropy',\n",
    "  optimizer=\"adam\",\n",
    "  metrics=['accuracy']\n",
    ")"
   ]
  },
  {
   "cell_type": "code",
   "execution_count": 228,
   "id": "08e90650",
   "metadata": {},
   "outputs": [],
   "source": [
    "from tensorflow.keras.callbacks import EarlyStopping\n",
    "early_stop=EarlyStopping(monitor='val_loss',mode='min',verbose=1,patience=5)\n",
    "\n",
    "#Early stopping to avoid overfitting of model"
   ]
  },
  {
   "cell_type": "code",
   "execution_count": 229,
   "id": "faa6a1de",
   "metadata": {},
   "outputs": [
    {
     "name": "stdout",
     "output_type": "stream",
     "text": [
      "Epoch 1/20\n",
      "9/9 [==============================] - 3s 273ms/step - loss: 1.8236 - accuracy: 0.4093 - val_loss: 1.7302 - val_accuracy: 0.1562\n",
      "Epoch 2/20\n",
      "9/9 [==============================] - 2s 244ms/step - loss: 1.2084 - accuracy: 0.6100 - val_loss: 1.2124 - val_accuracy: 0.6250\n",
      "Epoch 3/20\n",
      "9/9 [==============================] - 2s 254ms/step - loss: 0.9301 - accuracy: 0.6371 - val_loss: 1.0650 - val_accuracy: 0.6875\n",
      "Epoch 4/20\n",
      "9/9 [==============================] - 2s 250ms/step - loss: 0.5448 - accuracy: 0.8185 - val_loss: 1.0727 - val_accuracy: 0.6719\n",
      "Epoch 5/20\n",
      "9/9 [==============================] - 2s 246ms/step - loss: 0.6472 - accuracy: 0.7645 - val_loss: 1.1261 - val_accuracy: 0.6719\n",
      "Epoch 6/20\n",
      "9/9 [==============================] - 2s 251ms/step - loss: 0.5440 - accuracy: 0.8224 - val_loss: 1.0370 - val_accuracy: 0.6250\n",
      "Epoch 7/20\n",
      "9/9 [==============================] - 2s 254ms/step - loss: 0.4796 - accuracy: 0.7954 - val_loss: 0.8562 - val_accuracy: 0.6250\n",
      "Epoch 8/20\n",
      "9/9 [==============================] - 2s 250ms/step - loss: 0.3614 - accuracy: 0.8764 - val_loss: 0.7747 - val_accuracy: 0.6719\n",
      "Epoch 9/20\n",
      "9/9 [==============================] - 2s 248ms/step - loss: 0.3191 - accuracy: 0.8958 - val_loss: 0.7514 - val_accuracy: 0.6562\n",
      "Epoch 10/20\n",
      "9/9 [==============================] - 2s 250ms/step - loss: 0.2964 - accuracy: 0.9189 - val_loss: 0.7634 - val_accuracy: 0.6562\n",
      "Epoch 11/20\n",
      "9/9 [==============================] - 2s 247ms/step - loss: 0.3181 - accuracy: 0.8842 - val_loss: 0.7278 - val_accuracy: 0.6719\n",
      "Epoch 12/20\n",
      "9/9 [==============================] - 2s 253ms/step - loss: 0.2669 - accuracy: 0.9189 - val_loss: 0.8375 - val_accuracy: 0.6250\n",
      "Epoch 13/20\n",
      "9/9 [==============================] - 2s 248ms/step - loss: 0.3167 - accuracy: 0.8726 - val_loss: 0.8104 - val_accuracy: 0.6250\n",
      "Epoch 14/20\n",
      "9/9 [==============================] - 2s 250ms/step - loss: 0.3227 - accuracy: 0.8649 - val_loss: 0.7487 - val_accuracy: 0.6875\n",
      "Epoch 15/20\n",
      "9/9 [==============================] - 2s 253ms/step - loss: 0.2716 - accuracy: 0.8996 - val_loss: 0.7971 - val_accuracy: 0.6719\n",
      "Epoch 16/20\n",
      "9/9 [==============================] - 2s 256ms/step - loss: 0.2555 - accuracy: 0.8958 - val_loss: 0.7042 - val_accuracy: 0.6875\n",
      "Epoch 17/20\n",
      "9/9 [==============================] - 2s 254ms/step - loss: 0.2132 - accuracy: 0.9382 - val_loss: 0.7623 - val_accuracy: 0.6250\n",
      "Epoch 18/20\n",
      "9/9 [==============================] - 2s 249ms/step - loss: 0.2258 - accuracy: 0.9344 - val_loss: 0.6910 - val_accuracy: 0.7344\n",
      "Epoch 19/20\n",
      "9/9 [==============================] - 2s 247ms/step - loss: 0.2047 - accuracy: 0.9614 - val_loss: 0.7242 - val_accuracy: 0.6875\n",
      "Epoch 20/20\n",
      "9/9 [==============================] - 2s 247ms/step - loss: 0.1854 - accuracy: 0.9498 - val_loss: 0.6679 - val_accuracy: 0.7344\n"
     ]
    }
   ],
   "source": [
    "# fit the model\n",
    "history = model.fit(\n",
    "  train_x,\n",
    "  train_y,\n",
    "  validation_data=(val_x,val_y),\n",
    "  epochs=20,\n",
    "  callbacks=[early_stop],\n",
    "  batch_size=32,shuffle=True)"
   ]
  },
  {
   "cell_type": "code",
   "execution_count": 230,
   "id": "86732a56",
   "metadata": {},
   "outputs": [
    {
     "data": {
      "image/png": "[encoded data removed]",
      "text/plain": [
       "<Figure size 432x288 with 1 Axes>"
      ]
     },
     "metadata": {
      "needs_background": "light"
     },
     "output_type": "display_data"
    }
   ],
   "source": [
    "# loss\n",
    "plt.plot(history.history['loss'], label='train loss')\n",
    "plt.plot(history.history['val_loss'], label='val loss')\n",
    "plt.legend()\n",
    "\n",
    "plt.savefig('vgg-loss-rps-1.png')\n",
    "plt.show()"
   ]
  },
  {
   "cell_type": "code",
   "execution_count": 231,
   "id": "ae17e291",
   "metadata": {},
   "outputs": [
    {
     "data": {
      "image/png": "[encoded data removed]",
      "text/plain": [
       "<Figure size 432x288 with 1 Axes>"
      ]
     },
     "metadata": {
      "needs_background": "light"
     },
     "output_type": "display_data"
    }
   ],
   "source": [
    "# accuracies\n",
    "plt.plot(history.history['accuracy'], label='train acc')\n",
    "plt.plot(history.history['val_accuracy'], label='val acc')\n",
    "plt.legend()\n",
    "\n",
    "plt.savefig('vgg-acc-rps-1.png')\n",
    "plt.show()"
   ]
  },
  {
   "cell_type": "code",
   "execution_count": 232,
   "id": "f63075ca",
   "metadata": {},
   "outputs": [
    {
     "name": "stdout",
     "output_type": "stream",
     "text": [
      "3/3 [==============================] - 2s 927ms/step - loss: 0.3911 - accuracy: 0.8642\n"
     ]
    },
    {
     "data": {
      "text/plain": [
       "[0.39114004373550415, 0.8641975522041321]"
      ]
     },
     "execution_count": 232,
     "metadata": {},
     "output_type": "execute_result"
    }
   ],
   "source": [
    "model.evaluate(test_x,test_y,batch_size=32)"
   ]
  },
  {
   "cell_type": "code",
   "execution_count": 233,
   "id": "904b17ed",
   "metadata": {},
   "outputs": [
    {
     "name": "stdout",
     "output_type": "stream",
     "text": [
      "3/3 [==============================] - 1s 210ms/step\n"
     ]
    }
   ],
   "source": [
    "y_pred=model.predict(test_x)\n",
    "y_pred=np.argmax(y_pred,axis=1)"
   ]
  },
  {
   "cell_type": "code",
   "execution_count": 234,
   "id": "ba31ff10",
   "metadata": {},
   "outputs": [
    {
     "data": {
      "text/plain": [
       "0.8641975308641975"
      ]
     },
     "execution_count": 234,
     "metadata": {},
     "output_type": "execute_result"
    }
   ],
   "source": [
    "from sklearn.metrics import accuracy_score,classification_report,confusion_matrix\n",
    "accuracy_score(y_pred,test_y)"
   ]
  },
  {
   "cell_type": "code",
   "execution_count": 235,
   "id": "a3b88cce",
   "metadata": {},
   "outputs": [
    {
     "name": "stdout",
     "output_type": "stream",
     "text": [
      "              precision    recall  f1-score   support\n",
      "\n",
      "           0       0.97      1.00      0.99        35\n",
      "           1       0.53      0.73      0.62        11\n",
      "           2       1.00      0.79      0.88        14\n",
      "           3       0.84      0.76      0.80        21\n",
      "\n",
      "    accuracy                           0.86        81\n",
      "   macro avg       0.84      0.82      0.82        81\n",
      "weighted avg       0.88      0.86      0.87        81\n",
      "\n"
     ]
    }
   ],
   "source": [
    "print(classification_report(y_pred,test_y))"
   ]
  },
  {
   "cell_type": "code",
   "execution_count": 236,
   "id": "c13e42f0",
   "metadata": {},
   "outputs": [],
   "source": [
    "import numpy as np"
   ]
  },
  {
   "cell_type": "code",
   "execution_count": 237,
   "id": "841e6d2b",
   "metadata": {},
   "outputs": [
    {
     "data": {
      "text/plain": [
       "array([[35,  0,  0,  0],\n",
       "       [ 0,  8,  0,  3],\n",
       "       [ 1,  2, 11,  0],\n",
       "       [ 0,  5,  0, 16]], dtype=int64)"
      ]
     },
     "execution_count": 237,
     "metadata": {},
     "output_type": "execute_result"
    }
   ],
   "source": [
    "confusion_matrix(y_pred,test_y)"
   ]
  },
  {
   "cell_type": "code",
   "execution_count": 239,
   "id": "f2999f93",
   "metadata": {},
   "outputs": [],
   "source": [
    "import tensorflow as tf\n",
    "from keras.models import load_model\n",
    "\n",
    "model.save('rice_quality_model.h5')"
   ]
  },
  {
   "cell_type": "code",
   "execution_count": null,
   "id": "77f00789",
   "metadata": {},
   "outputs": [],
   "source": []
  }
 ],
 "metadata": {
  "kernelspec": {
   "display_name": "Python 3",
   "language": "python",
   "name": "python3"
  },
  "language_info": {
   "codemirror_mode": {
    "name": "ipython",
    "version": 3
   },
   "file_extension": ".py",
   "mimetype": "text/x-python",
   "name": "python",
   "nbconvert_exporter": "python",
   "pygments_lexer": "ipython3",
   "version": "3.8.8"
  }
 },
 "nbformat": 4,
 "nbformat_minor": 5
}
