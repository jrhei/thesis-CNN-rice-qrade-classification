{
 "cells": [
  {
   "cell_type": "code",
   "execution_count": 100,
   "id": "bc5092c4",
   "metadata": {
    "scrolled": false
   },
   "outputs": [],
   "source": [
    "import keras\n",
    "from tensorflow.keras.layers import Input, Lambda, Dense, Flatten,Dropout\n",
    "from tensorflow.keras.models import Model\n",
    "from keras.applications.vgg16 import VGG16\n",
    "from tensorflow.keras.applications.vgg16 import preprocess_input\n",
    "from tensorflow.keras.preprocessing import image\n",
    "from tensorflow.keras.preprocessing.image import ImageDataGenerator\n",
    "from tensorflow.keras.models import Sequential\n",
    "import numpy as np\n",
    "import pandas as pd\n",
    "import os\n",
    "import cv2\n",
    "import matplotlib.pyplot as plt\n",
    "import tensorflow as tf\n",
    "\n",
    "gpus = tf.config.experimental.list_physical_devices('GPU')\n",
    "for gpu in gpus:\n",
    "    tf.config.experimental.set_memory_growth(gpu,True)\n",
    "#from keras.applications.vgg16 import VGG16"
   ]
  },
  {
   "cell_type": "code",
   "execution_count": 101,
   "id": "97271327",
   "metadata": {},
   "outputs": [],
   "source": [
    "#tf.debugging.set_log_device_placement(True)\n",
    "#gpus"
   ]
  },
  {
   "cell_type": "code",
   "execution_count": 102,
   "id": "d6ebe5b5",
   "metadata": {},
   "outputs": [],
   "source": [
    "IMAGE_SIZE = [256,256]"
   ]
  },
  {
   "cell_type": "code",
   "execution_count": 103,
   "id": "c0cdd339",
   "metadata": {},
   "outputs": [],
   "source": [
    "train_path=\"./removed/data_last/train\"\n",
    "test_path=\"./removed/data_last/test\"\n",
    "val_path=\"./removed/data_last/val\"\n",
    "\n",
    "# train_path=\"./data/train\"\n",
    "# test_path=\"./data/test\"\n",
    "# val_path=\"./data/val\"\n"
   ]
  },
  {
   "cell_type": "code",
   "execution_count": 104,
   "id": "c4a3a981",
   "metadata": {},
   "outputs": [
    {
     "name": "stdout",
     "output_type": "stream",
     "text": [
      "x-train done\n"
     ]
    }
   ],
   "source": [
    "x_train=[]\n",
    "\n",
    "for folder in os.listdir(train_path):\n",
    "    sub_path=train_path+\"/\"+folder\n",
    "    for img in os.listdir(sub_path):\n",
    "        image_path=sub_path+\"/\"+img\n",
    "        img_arr=cv2.imread(image_path)\n",
    "        img_arr=cv2.resize(img_arr,(256,256))\n",
    "        x_train.append(img_arr)\n",
    "        \n",
    "print('x-train done')"
   ]
  },
  {
   "cell_type": "code",
   "execution_count": 105,
   "id": "9ac17c9a",
   "metadata": {},
   "outputs": [
    {
     "name": "stdout",
     "output_type": "stream",
     "text": [
      "x-test done\n"
     ]
    }
   ],
   "source": [
    "x_test=[]\n",
    "\n",
    "for folder in os.listdir(test_path):\n",
    "    sub_path=test_path+\"/\"+folder\n",
    "    for img in os.listdir(sub_path):\n",
    "        image_path=sub_path+\"/\"+img\n",
    "        img_arr=cv2.imread(image_path)\n",
    "        img_arr=cv2.resize(img_arr,(256,256))\n",
    "        x_test.append(img_arr)\n",
    "print('x-test done')"
   ]
  },
  {
   "cell_type": "code",
   "execution_count": 106,
   "id": "6e2c59bf",
   "metadata": {},
   "outputs": [
    {
     "name": "stdout",
     "output_type": "stream",
     "text": [
      "x-val done\n"
     ]
    }
   ],
   "source": [
    "x_val=[]\n",
    "\n",
    "for folder in os.listdir(val_path):\n",
    "    sub_path=val_path+\"/\"+folder\n",
    "    for img in os.listdir(sub_path):\n",
    "        image_path=sub_path+\"/\"+img\n",
    "        img_arr=cv2.imread(image_path)\n",
    "        img_arr=cv2.resize(img_arr,(256,256))\n",
    "        x_val.append(img_arr)\n",
    "print('x-val done')   "
   ]
  },
  {
   "cell_type": "code",
   "execution_count": 107,
   "id": "6c9bddee",
   "metadata": {},
   "outputs": [
    {
     "name": "stdout",
     "output_type": "stream",
     "text": [
      "test\n"
     ]
    }
   ],
   "source": [
    "train_x=np.array(x_train)\n",
    "test_x=np.array(x_test)\n",
    "val_x=np.array(x_val)\n",
    "print('test')"
   ]
  },
  {
   "cell_type": "code",
   "execution_count": 108,
   "id": "3f5a2f61",
   "metadata": {},
   "outputs": [
    {
     "data": {
      "text/plain": [
       "((167, 256, 256, 3), (41, 256, 256, 3), (29, 256, 256, 3))"
      ]
     },
     "execution_count": 108,
     "metadata": {},
     "output_type": "execute_result"
    }
   ],
   "source": [
    "train_x.shape,test_x.shape,val_x.shape"
   ]
  },
  {
   "cell_type": "code",
   "execution_count": 109,
   "id": "d45c48b2",
   "metadata": {},
   "outputs": [],
   "source": [
    "train_x=train_x/255.0\n",
    "test_x=test_x/255.0\n",
    "val_x=val_x/255.0"
   ]
  },
  {
   "cell_type": "code",
   "execution_count": 110,
   "id": "f876a69e",
   "metadata": {},
   "outputs": [],
   "source": [
    "from tensorflow.keras.preprocessing.image import ImageDataGenerator"
   ]
  },
  {
   "cell_type": "code",
   "execution_count": 111,
   "id": "043a436f",
   "metadata": {
    "scrolled": true
   },
   "outputs": [
    {
     "name": "stdout",
     "output_type": "stream",
     "text": [
      "Found 167 images belonging to 3 classes.\n",
      "Found 41 images belonging to 3 classes.\n",
      "Found 29 images belonging to 3 classes.\n"
     ]
    }
   ],
   "source": [
    "train_datagen = ImageDataGenerator(rescale = 1./255)\n",
    "test_datagen = ImageDataGenerator(rescale = 1./255)\n",
    "val_datagen = ImageDataGenerator(rescale = 1./255)\n",
    "\n",
    "\n",
    "training_set = train_datagen.flow_from_directory(train_path,\n",
    "                                                 target_size = (256,256),\n",
    "                                                 batch_size = 32,\n",
    "                                                 class_mode = 'input')\n",
    "\n",
    "test_set = test_datagen.flow_from_directory(test_path,\n",
    "                                            target_size = (256,256),\n",
    "                                            batch_size = 32,\n",
    "                                            class_mode = 'input')\n",
    "\n",
    "val_set = val_datagen.flow_from_directory(val_path,\n",
    "                                            target_size = (256,256),\n",
    "                                            batch_size = 32,\n",
    "                                            class_mode = 'input')"
   ]
  },
  {
   "cell_type": "code",
   "execution_count": 112,
   "id": "9e8c34e8",
   "metadata": {},
   "outputs": [
    {
     "data": {
      "text/plain": [
       "<matplotlib.image.AxesImage at 0x20da8357eb0>"
      ]
     },
     "execution_count": 112,
     "metadata": {},
     "output_type": "execute_result"
    },
    {
     "data": {
      "image/png": "[encoded data removed]",
      "text/plain": [
       "<Figure size 432x288 with 1 Axes>"
      ]
     },
     "metadata": {
      "needs_background": "light"
     },
     "output_type": "display_data"
    }
   ],
   "source": [
    "training_set.class_indices\n",
    "plt.imshow(x_train[1])\n",
    "#ims = x_train[260]\n",
    "#PATH = './output_dir'\n",
    "#x_train[0]\n",
    "#cv2.imwrite('filename.jpeg', ims)\n",
    "\n",
    "#ims.save(\"test_file.jpg\")\n",
    "#cv2.imwrite(path,img_to_save)"
   ]
  },
  {
   "cell_type": "code",
   "execution_count": 113,
   "id": "3aa6d1a9",
   "metadata": {},
   "outputs": [
    {
     "name": "stdout",
     "output_type": "stream",
     "text": [
      "0\n"
     ]
    }
   ],
   "source": [
    "train_y=training_set.classes\n",
    "print(train_y[0])\n",
    "#0 = broken\n",
    "\n",
    "#0 = chalky\n",
    "#1 = damaged\n",
    "#2 = discolored"
   ]
  },
  {
   "cell_type": "code",
   "execution_count": 114,
   "id": "1c664dcf",
   "metadata": {},
   "outputs": [],
   "source": [
    "test_y=test_set.classes"
   ]
  },
  {
   "cell_type": "code",
   "execution_count": 115,
   "id": "4dc31f82",
   "metadata": {},
   "outputs": [],
   "source": [
    "val_y=val_set.classes"
   ]
  },
  {
   "cell_type": "code",
   "execution_count": 116,
   "id": "68904963",
   "metadata": {},
   "outputs": [
    {
     "data": {
      "text/plain": [
       "((167,), (41,), (29,))"
      ]
     },
     "execution_count": 116,
     "metadata": {},
     "output_type": "execute_result"
    }
   ],
   "source": [
    "train_y.shape,test_y.shape,val_y.shape"
   ]
  },
  {
   "cell_type": "code",
   "execution_count": 117,
   "id": "a35bf08d",
   "metadata": {},
   "outputs": [],
   "source": [
    "# add preprocessing layer to the front of VGG\n",
    "vgg = VGG16(input_shape=IMAGE_SIZE + [3], weights='imagenet', include_top=False)"
   ]
  },
  {
   "cell_type": "code",
   "execution_count": 118,
   "id": "c1e16dbf",
   "metadata": {},
   "outputs": [],
   "source": [
    "# don't train existing weights\n",
    "for layer in vgg.layers:\n",
    "    layer.trainable = False"
   ]
  },
  {
   "cell_type": "code",
   "execution_count": 119,
   "id": "fb4d6ff7",
   "metadata": {},
   "outputs": [],
   "source": [
    "# our layers - you can add more if you want\n",
    "x = Flatten()(vgg.output)\n",
    "\n",
    "prediction = Dense(3,activation='softmax')(x)"
   ]
  },
  {
   "cell_type": "code",
   "execution_count": 120,
   "id": "233234d4",
   "metadata": {},
   "outputs": [
    {
     "name": "stdout",
     "output_type": "stream",
     "text": [
      "Model: \"model_3\"\n",
      "_________________________________________________________________\n",
      " Layer (type)                Output Shape              Param #   \n",
      "=================================================================\n",
      " input_4 (InputLayer)        [(None, 256, 256, 3)]     0         \n",
      "                                                                 \n",
      " block1_conv1 (Conv2D)       (None, 256, 256, 64)      1792      \n",
      "                                                                 \n",
      " block1_conv2 (Conv2D)       (None, 256, 256, 64)      36928     \n",
      "                                                                 \n",
      " block1_pool (MaxPooling2D)  (None, 128, 128, 64)      0         \n",
      "                                                                 \n",
      " block2_conv1 (Conv2D)       (None, 128, 128, 128)     73856     \n",
      "                                                                 \n",
      " block2_conv2 (Conv2D)       (None, 128, 128, 128)     147584    \n",
      "                                                                 \n",
      " block2_pool (MaxPooling2D)  (None, 64, 64, 128)       0         \n",
      "                                                                 \n",
      " block3_conv1 (Conv2D)       (None, 64, 64, 256)       295168    \n",
      "                                                                 \n",
      " block3_conv2 (Conv2D)       (None, 64, 64, 256)       590080    \n",
      "                                                                 \n",
      " block3_conv3 (Conv2D)       (None, 64, 64, 256)       590080    \n",
      "                                                                 \n",
      " block3_pool (MaxPooling2D)  (None, 32, 32, 256)       0         \n",
      "                                                                 \n",
      " block4_conv1 (Conv2D)       (None, 32, 32, 512)       1180160   \n",
      "                                                                 \n",
      " block4_conv2 (Conv2D)       (None, 32, 32, 512)       2359808   \n",
      "                                                                 \n",
      " block4_conv3 (Conv2D)       (None, 32, 32, 512)       2359808   \n",
      "                                                                 \n",
      " block4_pool (MaxPooling2D)  (None, 16, 16, 512)       0         \n",
      "                                                                 \n",
      " block5_conv1 (Conv2D)       (None, 16, 16, 512)       2359808   \n",
      "                                                                 \n",
      " block5_conv2 (Conv2D)       (None, 16, 16, 512)       2359808   \n",
      "                                                                 \n",
      " block5_conv3 (Conv2D)       (None, 16, 16, 512)       2359808   \n",
      "                                                                 \n",
      " block5_pool (MaxPooling2D)  (None, 8, 8, 512)         0         \n",
      "                                                                 \n",
      " flatten_3 (Flatten)         (None, 32768)             0         \n",
      "                                                                 \n",
      " dense_3 (Dense)             (None, 3)                 98307     \n",
      "                                                                 \n",
      "=================================================================\n",
      "Total params: 14,812,995\n",
      "Trainable params: 98,307\n",
      "Non-trainable params: 14,714,688\n",
      "_________________________________________________________________\n"
     ]
    }
   ],
   "source": [
    "# create a model object\n",
    "model = Model(inputs=vgg.input, outputs=prediction)\n",
    "\n",
    "# view the structure of the model\n",
    "model.summary()"
   ]
  },
  {
   "cell_type": "code",
   "execution_count": 121,
   "id": "d64ac2c4",
   "metadata": {},
   "outputs": [],
   "source": [
    "# tell the model what cost and optimization method to use\n",
    "model.compile(\n",
    "  loss='sparse_categorical_crossentropy',\n",
    "  optimizer=\"adam\",\n",
    "  metrics=['accuracy']\n",
    ")"
   ]
  },
  {
   "cell_type": "code",
   "execution_count": 122,
   "id": "08e90650",
   "metadata": {},
   "outputs": [],
   "source": [
    "from tensorflow.keras.callbacks import EarlyStopping\n",
    "early_stop=EarlyStopping(monitor='val_loss',mode='min',verbose=1,patience=5)\n",
    "\n",
    "#Early stopping to avoid overfitting of model"
   ]
  },
  {
   "cell_type": "code",
   "execution_count": 123,
   "id": "faa6a1de",
   "metadata": {},
   "outputs": [
    {
     "name": "stdout",
     "output_type": "stream",
     "text": [
      "Epoch 1/20\n",
      "6/6 [==============================] - 12s 2s/step - loss: 1.4268 - accuracy: 0.4311 - val_loss: 0.8658 - val_accuracy: 0.6207\n",
      "Epoch 2/20\n",
      "6/6 [==============================] - 6s 1s/step - loss: 0.6325 - accuracy: 0.7365 - val_loss: 0.8089 - val_accuracy: 0.6207\n",
      "Epoch 3/20\n",
      "6/6 [==============================] - 6s 1s/step - loss: 0.4549 - accuracy: 0.8024 - val_loss: 0.6167 - val_accuracy: 0.7241\n",
      "Epoch 4/20\n",
      "6/6 [==============================] - 6s 1s/step - loss: 0.3196 - accuracy: 0.8683 - val_loss: 0.7179 - val_accuracy: 0.6897\n",
      "Epoch 5/20\n",
      "6/6 [==============================] - 6s 1s/step - loss: 0.2674 - accuracy: 0.9042 - val_loss: 0.4546 - val_accuracy: 0.7931\n",
      "Epoch 6/20\n",
      "6/6 [==============================] - 6s 1s/step - loss: 0.2452 - accuracy: 0.9042 - val_loss: 0.4507 - val_accuracy: 0.7931\n",
      "Epoch 7/20\n",
      "6/6 [==============================] - 6s 1s/step - loss: 0.2459 - accuracy: 0.9281 - val_loss: 0.5444 - val_accuracy: 0.7586\n",
      "Epoch 8/20\n",
      "6/6 [==============================] - 6s 1s/step - loss: 0.1571 - accuracy: 0.9581 - val_loss: 0.4030 - val_accuracy: 0.7586\n",
      "Epoch 9/20\n",
      "6/6 [==============================] - 6s 1s/step - loss: 0.1299 - accuracy: 0.9701 - val_loss: 0.5627 - val_accuracy: 0.7586\n",
      "Epoch 10/20\n",
      "6/6 [==============================] - 6s 1s/step - loss: 0.1099 - accuracy: 0.9880 - val_loss: 0.3950 - val_accuracy: 0.8276\n",
      "Epoch 11/20\n",
      "6/6 [==============================] - 6s 1s/step - loss: 0.1428 - accuracy: 0.9820 - val_loss: 0.5402 - val_accuracy: 0.8276\n",
      "Epoch 12/20\n",
      "6/6 [==============================] - 6s 1s/step - loss: 0.1498 - accuracy: 0.9521 - val_loss: 0.4523 - val_accuracy: 0.8621\n",
      "Epoch 13/20\n",
      "6/6 [==============================] - 6s 1s/step - loss: 0.1257 - accuracy: 0.9760 - val_loss: 0.4384 - val_accuracy: 0.8276\n",
      "Epoch 14/20\n",
      "6/6 [==============================] - 6s 1s/step - loss: 0.0840 - accuracy: 0.9820 - val_loss: 0.3337 - val_accuracy: 0.8276\n",
      "Epoch 15/20\n",
      "6/6 [==============================] - 6s 1s/step - loss: 0.0708 - accuracy: 1.0000 - val_loss: 0.4104 - val_accuracy: 0.8276\n",
      "Epoch 16/20\n",
      "6/6 [==============================] - 6s 1s/step - loss: 0.0690 - accuracy: 0.9880 - val_loss: 0.3278 - val_accuracy: 0.8276\n",
      "Epoch 17/20\n",
      "6/6 [==============================] - 6s 1s/step - loss: 0.0681 - accuracy: 0.9940 - val_loss: 0.3174 - val_accuracy: 0.8621\n",
      "Epoch 18/20\n",
      "6/6 [==============================] - 6s 1s/step - loss: 0.0496 - accuracy: 1.0000 - val_loss: 0.3163 - val_accuracy: 0.8621\n",
      "Epoch 19/20\n",
      "6/6 [==============================] - 6s 1s/step - loss: 0.0460 - accuracy: 1.0000 - val_loss: 0.3219 - val_accuracy: 0.8621\n",
      "Epoch 20/20\n",
      "6/6 [==============================] - 6s 1s/step - loss: 0.0460 - accuracy: 1.0000 - val_loss: 0.3349 - val_accuracy: 0.8276\n"
     ]
    }
   ],
   "source": [
    "# fit the model\n",
    "history = model.fit(\n",
    "  train_x,\n",
    "  train_y,\n",
    "  validation_data=(val_x,val_y),\n",
    "  epochs=20,\n",
    "  callbacks=[early_stop],\n",
    "  batch_size=32,shuffle=True)"
   ]
  },
  {
   "cell_type": "code",
   "execution_count": 124,
   "id": "86732a56",
   "metadata": {
    "scrolled": true
   },
   "outputs": [
    {
     "data": {
      "image/png": "[encoded data removed]",
      "text/plain": [
       "<Figure size 432x288 with 1 Axes>"
      ]
     },
     "metadata": {
      "needs_background": "light"
     },
     "output_type": "display_data"
    }
   ],
   "source": [
    "# loss\n",
    "plt.plot(history.history['loss'], label='train loss')\n",
    "plt.plot(history.history['val_loss'], label='val loss')\n",
    "plt.legend()\n",
    "\n",
    "plt.savefig('vgg-loss-rps-1.png')\n",
    "plt.show()"
   ]
  },
  {
   "cell_type": "code",
   "execution_count": 125,
   "id": "ae17e291",
   "metadata": {},
   "outputs": [
    {
     "data": {
      "image/png": "[encoded data removed]",
      "text/plain": [
       "<Figure size 432x288 with 1 Axes>"
      ]
     },
     "metadata": {
      "needs_background": "light"
     },
     "output_type": "display_data"
    }
   ],
   "source": [
    "# accuracies\n",
    "plt.plot(history.history['accuracy'], label='test acc')\n",
    "plt.plot(history.history['val_accuracy'], label='val acc')\n",
    "plt.legend()\n",
    "\n",
    "plt.savefig('vgg-acc-rps-1.png')\n",
    "plt.show()"
   ]
  },
  {
   "cell_type": "code",
   "execution_count": 126,
   "id": "f63075ca",
   "metadata": {},
   "outputs": [
    {
     "name": "stdout",
     "output_type": "stream",
     "text": [
      "2/2 [==============================] - 1s 269ms/step - loss: 0.4632 - accuracy: 0.7805\n"
     ]
    },
    {
     "data": {
      "text/plain": [
       "[0.46316054463386536, 0.7804877758026123]"
      ]
     },
     "execution_count": 126,
     "metadata": {},
     "output_type": "execute_result"
    }
   ],
   "source": [
    "model.evaluate(test_x,test_y,batch_size=32)"
   ]
  },
  {
   "cell_type": "code",
   "execution_count": 127,
   "id": "904b17ed",
   "metadata": {},
   "outputs": [
    {
     "name": "stdout",
     "output_type": "stream",
     "text": [
      "2/2 [==============================] - 1s 1s/step\n"
     ]
    }
   ],
   "source": [
    "y_pred=model.predict(test_x)\n",
    "y_pred=np.argmax(y_pred,axis=1)"
   ]
  },
  {
   "cell_type": "code",
   "execution_count": 128,
   "id": "ba31ff10",
   "metadata": {},
   "outputs": [
    {
     "data": {
      "text/plain": [
       "0.7804878048780488"
      ]
     },
     "execution_count": 128,
     "metadata": {},
     "output_type": "execute_result"
    }
   ],
   "source": [
    "from sklearn.metrics import accuracy_score,classification_report,confusion_matrix\n",
    "accuracy_score(y_pred,test_y)"
   ]
  },
  {
   "cell_type": "code",
   "execution_count": 129,
   "id": "a3b88cce",
   "metadata": {},
   "outputs": [
    {
     "name": "stdout",
     "output_type": "stream",
     "text": [
      "              precision    recall  f1-score   support\n",
      "\n",
      "           0       0.89      0.94      0.92        18\n",
      "           1       0.86      0.63      0.73        19\n",
      "           2       0.38      0.75      0.50         4\n",
      "\n",
      "    accuracy                           0.78        41\n",
      "   macro avg       0.71      0.78      0.72        41\n",
      "weighted avg       0.83      0.78      0.79        41\n",
      "\n"
     ]
    }
   ],
   "source": [
    "print(classification_report(y_pred,test_y))"
   ]
  },
  {
   "cell_type": "code",
   "execution_count": 130,
   "id": "c13e42f0",
   "metadata": {},
   "outputs": [],
   "source": [
    "import numpy as np"
   ]
  },
  {
   "cell_type": "code",
   "execution_count": 131,
   "id": "841e6d2b",
   "metadata": {},
   "outputs": [
    {
     "data": {
      "text/plain": [
       "array([[17,  1,  0],\n",
       "       [ 2, 12,  5],\n",
       "       [ 0,  1,  3]], dtype=int64)"
      ]
     },
     "execution_count": 131,
     "metadata": {},
     "output_type": "execute_result"
    }
   ],
   "source": [
    "confusion_matrix(y_pred,test_y)"
   ]
  },
  {
   "cell_type": "code",
   "execution_count": 132,
   "id": "f2999f93",
   "metadata": {},
   "outputs": [],
   "source": [
    "import tensorflow as tf\n",
    "from keras.models import load_model\n",
    "\n",
    "model.save('rice_quality_model_vgg19_ffinal_rep.h5')\n"
   ]
  },
  {
   "cell_type": "code",
   "execution_count": null,
   "id": "6baad31e",
   "metadata": {},
   "outputs": [],
   "source": []
  },
  {
   "cell_type": "code",
   "execution_count": null,
   "id": "1f62d296",
   "metadata": {},
   "outputs": [],
   "source": []
  },
  {
   "cell_type": "code",
   "execution_count": null,
   "id": "cfe1a98a",
   "metadata": {},
   "outputs": [],
   "source": [
    "\n",
    "\n",
    "\n"
   ]
  }
 ],
 "metadata": {
  "kernelspec": {
   "display_name": "Python 3",
   "language": "python",
   "name": "python3"
  },
  "language_info": {
   "codemirror_mode": {
    "name": "ipython",
    "version": 3
   },
   "file_extension": ".py",
   "mimetype": "text/x-python",
   "name": "python",
   "nbconvert_exporter": "python",
   "pygments_lexer": "ipython3",
   "version": "3.8.8"
  }
 },
 "nbformat": 4,
 "nbformat_minor": 5
}
